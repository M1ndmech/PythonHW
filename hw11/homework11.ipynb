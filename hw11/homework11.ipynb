{
 "cells": [
  {
   "cell_type": "code",
   "execution_count": 2,
   "id": "157027bd",
   "metadata": {},
   "outputs": [],
   "source": [
    "import pandas as pd\n",
    "import numpy as np"
   ]
  },
  {
   "cell_type": "markdown",
   "id": "2eb9f207",
   "metadata": {},
   "source": [
    "## Задание 1.\n",
    "Использовать markdown для оформления, в т.ч. кода"
   ]
  },
  {
   "cell_type": "markdown",
   "id": "b8ccef17",
   "metadata": {},
   "source": [
    "## Задание 2.\n",
    "На складе лежат разные фрукты в разном количестве. \n",
    "Нужно написать функцию, которая на вход принимает любое количество названий фруктов и их количество, а возвращает общее количество фруктов на складе\n",
    "```\n",
    "total_fruits(banana=5, mango=7, apple=8)\n",
    "20\n",
    "```"
   ]
  },
  {
   "cell_type": "code",
   "execution_count": 4,
   "id": "bdd01536",
   "metadata": {},
   "outputs": [
    {
     "data": {
      "text/plain": [
       "20"
      ]
     },
     "execution_count": 4,
     "metadata": {},
     "output_type": "execute_result"
    }
   ],
   "source": [
    "total_fruits = {'banana':5, 'mango':7, 'apple':8}\n",
    "\n",
    "def quantity_count (input_dict: dict) -> int:\n",
    "    total = 0\n",
    "    for item in input_dict.values():\n",
    "        total += item\n",
    "    return total\n",
    "\n",
    "quantity_count(total_fruits)"
   ]
  },
  {
   "cell_type": "markdown",
   "id": "6457fd57",
   "metadata": {},
   "source": [
    "## Задание 3.\n",
    "Дан список с затратами на рекламу. \n",
    "Но в данных есть ошибки, некоторые затраты имеют отрицательную величину. \n",
    "Удалите такие значения из списка и посчитайте суммарные затраты \n",
    "```\n",
    "[100, 125, -90, 345, 655, -1, 0, 200] \n",
    "```\n",
    "Используйте list comprehensions"
   ]
  },
  {
   "cell_type": "code",
   "execution_count": 5,
   "id": "e7b4fc90",
   "metadata": {},
   "outputs": [
    {
     "data": {
      "text/plain": [
       "1425"
      ]
     },
     "execution_count": 5,
     "metadata": {},
     "output_type": "execute_result"
    }
   ],
   "source": [
    "faulty_list = [100, 125, -90, 345, 655, -1, 0, 200] \n",
    "new_list = [item for item in faulty_list if item >= 0]\n",
    "sum(new_list)"
   ]
  },
  {
   "cell_type": "markdown",
   "id": "bf1e1032",
   "metadata": {},
   "source": [
    "## Задание 4.\n",
    "Даны два списка. \n",
    "Дата покупки \n",
    "```\n",
    "['2021-09-14', '2021-12-15', '2021-09-08', '2021-12-05', '2021-10-09', '2021-09-30', '2021-12-22', '2021-11-29', '2021-12-24', '2021-11-26', '2021-10-27', '2021-12-18', '2021-11-09', '2021-11-23', '2021-09-27', '2021-10-02', '2021-12-27', '2021-09-20', '2021-12-13', '2021-11-01', '2021-11-09', '2021-12-06', '2021-12-08', '2021-10-09', '2021-10-31', '2021-09-30', '2021-11-09', '2021-12-13', '2021-10-26', '2021-12-09'] \n",
    "```\n",
    "Суммы покупок по датам \n",
    "```\n",
    "[1270, 8413, 9028, 3703, 5739, 4095, 295, 4944, 5723, 3701, 4471, 651, 7037, 4274, 6275, 4988, 6930, 2971, 6592, 2004, 2822, 519, 3406, 2732, 5015, 2008, 316, 6333, 5700, 2887]\n",
    "```\n",
    "### Задание 4.1. Найдите, какая выручка у компании в ноябре\n",
    "Используйте list comprehensions"
   ]
  },
  {
   "cell_type": "code",
   "execution_count": 6,
   "id": "2e949ad9",
   "metadata": {},
   "outputs": [],
   "source": [
    "dates = ['2021-09-14', '2021-12-15', '2021-09-08', '2021-12-05', '2021-10-09', '2021-09-30', '2021-12-22', '2021-11-29', '2021-12-24', '2021-11-26', '2021-10-27', '2021-12-18', '2021-11-09', '2021-11-23', '2021-09-27', '2021-10-02', '2021-12-27', '2021-09-20', '2021-12-13', '2021-11-01', '2021-11-09', '2021-12-06', '2021-12-08', '2021-10-09', '2021-10-31', '2021-09-30', '2021-11-09', '2021-12-13', '2021-10-26', '2021-12-09'] "
   ]
  },
  {
   "cell_type": "code",
   "execution_count": 7,
   "id": "2ed83256",
   "metadata": {},
   "outputs": [],
   "source": [
    "sums = [1270, 8413, 9028, 3703, 5739, 4095, 295, 4944, 5723, 3701, 4471, 651, 7037, 4274, 6275, 4988, 6930, 2971, 6592, 2004, 2822, 519, 3406, 2732, 5015, 2008, 316, 6333, 5700, 2887]"
   ]
  },
  {
   "cell_type": "code",
   "execution_count": 10,
   "id": "7d3f8a6c",
   "metadata": {},
   "outputs": [],
   "source": [
    "def sales_registry(dates: list, sums: list) -> list:\n",
    "    sums_in_months = list([dates[i], sums[i]] for i in range(len(dates)))\n",
    "    return sums_in_months"
   ]
  },
  {
   "cell_type": "code",
   "execution_count": 11,
   "id": "41a0d4d1",
   "metadata": {},
   "outputs": [
    {
     "data": {
      "text/plain": [
       "124842"
      ]
     },
     "execution_count": 11,
     "metadata": {},
     "output_type": "execute_result"
    }
   ],
   "source": [
    "sales_reg=sales_registry(dates, sums)\n",
    "sales_sum = sum([0 + b for a,b in sales_reg])\n",
    "sales_sum"
   ]
  },
  {
   "cell_type": "markdown",
   "id": "66fcb152",
   "metadata": {},
   "source": [
    "### Задание 4.2 \n",
    "Найдите выручку компании в зависимости от месяца\n",
    "Для этого напишите функцию, которая на вход принимает список с датами и список с выручкой, а на выходе словарь, где ключи - это месяцы, а значения - это выручка. \n",
    "Используйте аннотирование типов."
   ]
  },
  {
   "cell_type": "code",
   "execution_count": 12,
   "id": "b8b7e0bb",
   "metadata": {},
   "outputs": [],
   "source": [
    "def sales_registry_months(dates: list, sums: list) -> dict:\n",
    "    months = [date[:date.rfind(\"-\")] for date in dates]\n",
    "    sums_in_months = list([months[i], sums[i]] for i in range(len(dates)))\n",
    "    dict_new = {}\n",
    "    for month in months:\n",
    "        total = 0\n",
    "        for item in sums_in_months:\n",
    "            if item[0] == month:\n",
    "                total += item[1]\n",
    "        dict_new.update({month: total})  \n",
    "    return dict_new"
   ]
  },
  {
   "cell_type": "code",
   "execution_count": 13,
   "id": "4394fe68",
   "metadata": {},
   "outputs": [
    {
     "data": {
      "text/plain": [
       "{'2021-09': 25647, '2021-12': 45452, '2021-10': 28645, '2021-11': 25098}"
      ]
     },
     "execution_count": 13,
     "metadata": {},
     "output_type": "execute_result"
    }
   ],
   "source": [
    "new_dict = sales_registry_months(dates, sums)\n",
    "new_dict"
   ]
  }
 ],
 "metadata": {
  "kernelspec": {
   "display_name": "Python 3 (ipykernel)",
   "language": "python",
   "name": "python3"
  },
  "language_info": {
   "codemirror_mode": {
    "name": "ipython",
    "version": 3
   },
   "file_extension": ".py",
   "mimetype": "text/x-python",
   "name": "python",
   "nbconvert_exporter": "python",
   "pygments_lexer": "ipython3",
   "version": "3.11.1"
  }
 },
 "nbformat": 4,
 "nbformat_minor": 5
}
